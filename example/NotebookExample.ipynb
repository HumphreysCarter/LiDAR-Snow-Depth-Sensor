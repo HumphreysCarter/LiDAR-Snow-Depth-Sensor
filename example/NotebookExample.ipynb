{
 "cells": [
  {
   "cell_type": "markdown",
   "metadata": {},
   "source": [
    "## Raspberry Pi and Arduino Ultrasonic Snow Depth Sensor\n",
    "Carter Humphreys, 11/02/2020\n",
    "\n",
    "[github.com/HumphreysCarter](https://github.com/HumphreysCarter/Ultrasonic-Snow-Depth-Sensor)"
   ]
  },
  {
   "cell_type": "code",
   "execution_count": 160,
   "metadata": {},
   "outputs": [],
   "source": [
    "import math\n",
    "import serial\n",
    "import numpy as np\n",
    "import pandas as pd\n",
    "from datetime import datetime\n",
    "from metpy.units import units"
   ]
  },
  {
   "cell_type": "code",
   "execution_count": null,
   "metadata": {},
   "outputs": [],
   "source": [
    "# Start serial connection with sensor\n",
    "sensor = serial.Serial('/dev/ttyACM0', 9600, 8, 'N', 1, timeout=1)\n",
    "\n",
    "# Initialize empty dataframe\n",
    "records=pd.DataFrame()\n",
    "\n",
    "# Read in new data until 10 records are recorded\n",
    "while len(records) < 10:\n",
    "    \n",
    "    # Read data from sensor\n",
    "    record = sensor.readline()\n",
    "    \n",
    "    # De-code byte object as string\n",
    "    record = record.decode(\"utf-8\")\n",
    "       \n",
    "    # Check if valid record\n",
    "    if '!***' in record and '***!' in record:\n",
    "              \n",
    "        # Remove start/end strings and charcaters\n",
    "        record = record.replace('!*** ', '')\n",
    "        record = record.replace(' ***!', '')\n",
    "        record = record.replace('\\r\\n', '')\n",
    "        \n",
    "        # Convert to int\n",
    "        record = int(record)\n",
    "               \n",
    "        # Save record\n",
    "        records = records.append([{'DateTime_UTC':datetime.utcnow(), 'WaveSpeed_μs':record}], ignore_index=True)\n",
    "        \n",
    "# Close serial connection with sensor\n",
    "sensor.close()"
   ]
  },
  {
   "cell_type": "code",
   "execution_count": 149,
   "metadata": {},
   "outputs": [
    {
     "data": {
      "text/html": [
       "<div>\n",
       "<style scoped>\n",
       "    .dataframe tbody tr th:only-of-type {\n",
       "        vertical-align: middle;\n",
       "    }\n",
       "\n",
       "    .dataframe tbody tr th {\n",
       "        vertical-align: top;\n",
       "    }\n",
       "\n",
       "    .dataframe thead th {\n",
       "        text-align: right;\n",
       "    }\n",
       "</style>\n",
       "<table border=\"1\" class=\"dataframe\">\n",
       "  <thead>\n",
       "    <tr style=\"text-align: right;\">\n",
       "      <th></th>\n",
       "      <th>DateTime_UTC</th>\n",
       "      <th>WaveSpeed_μs</th>\n",
       "    </tr>\n",
       "  </thead>\n",
       "  <tbody>\n",
       "    <tr>\n",
       "      <th>0</th>\n",
       "      <td>2020-11-02 22:30:03.116861</td>\n",
       "      <td>7270</td>\n",
       "    </tr>\n",
       "    <tr>\n",
       "      <th>1</th>\n",
       "      <td>2020-11-02 22:30:03.125975</td>\n",
       "      <td>7220</td>\n",
       "    </tr>\n",
       "    <tr>\n",
       "      <th>2</th>\n",
       "      <td>2020-11-02 22:30:03.141289</td>\n",
       "      <td>7247</td>\n",
       "    </tr>\n",
       "    <tr>\n",
       "      <th>3</th>\n",
       "      <td>2020-11-02 22:30:03.155014</td>\n",
       "      <td>7249</td>\n",
       "    </tr>\n",
       "    <tr>\n",
       "      <th>4</th>\n",
       "      <td>2020-11-02 22:30:03.168444</td>\n",
       "      <td>7247</td>\n",
       "    </tr>\n",
       "    <tr>\n",
       "      <th>5</th>\n",
       "      <td>2020-11-02 22:30:03.181976</td>\n",
       "      <td>7272</td>\n",
       "    </tr>\n",
       "    <tr>\n",
       "      <th>6</th>\n",
       "      <td>2020-11-02 22:30:03.195226</td>\n",
       "      <td>7297</td>\n",
       "    </tr>\n",
       "    <tr>\n",
       "      <th>7</th>\n",
       "      <td>2020-11-02 22:30:03.208920</td>\n",
       "      <td>7218</td>\n",
       "    </tr>\n",
       "    <tr>\n",
       "      <th>8</th>\n",
       "      <td>2020-11-02 22:30:03.222438</td>\n",
       "      <td>7270</td>\n",
       "    </tr>\n",
       "    <tr>\n",
       "      <th>9</th>\n",
       "      <td>2020-11-02 22:30:03.235558</td>\n",
       "      <td>7220</td>\n",
       "    </tr>\n",
       "  </tbody>\n",
       "</table>\n",
       "</div>"
      ],
      "text/plain": [
       "                 DateTime_UTC  WaveSpeed_μs\n",
       "0  2020-11-02 22:30:03.116861          7270\n",
       "1  2020-11-02 22:30:03.125975          7220\n",
       "2  2020-11-02 22:30:03.141289          7247\n",
       "3  2020-11-02 22:30:03.155014          7249\n",
       "4  2020-11-02 22:30:03.168444          7247\n",
       "5  2020-11-02 22:30:03.181976          7272\n",
       "6  2020-11-02 22:30:03.195226          7297\n",
       "7  2020-11-02 22:30:03.208920          7218\n",
       "8  2020-11-02 22:30:03.222438          7270\n",
       "9  2020-11-02 22:30:03.235558          7220"
      ]
     },
     "execution_count": 149,
     "metadata": {},
     "output_type": "execute_result"
    }
   ],
   "source": [
    "records"
   ]
  },
  {
   "cell_type": "code",
   "execution_count": 184,
   "metadata": {},
   "outputs": [],
   "source": [
    "def calc_speed_of_sound(T):\n",
    "    \"\"\"\n",
    "    Calculates speed of sound based on air temperature\n",
    "    \"\"\"\n",
    "    # Constants\n",
    "    k = 1.4\n",
    "    R = 286.9\n",
    "    T = T.to('kelvin').magnitude\n",
    "    \n",
    "    # Speed of sound equation    \n",
    "    c = math.pow(1.4*(R*T), 0.5) * units('m/s')\n",
    "    \n",
    "    return c\n",
    "\n",
    "def calc_snow_depth(sensor_height, wave_speed, speed_of_sound):\n",
    "    \"\"\"\n",
    "    Calculates the snow depth from the total trip time of the sound wave\n",
    "    \"\"\"\n",
    "    # Convert units for calculation\n",
    "    sensor_height = sensor_height.to('m')\n",
    "    wave_speed = wave_speed.to('s')\n",
    "    speed_of_sound = speed_of_sound.to('m/s')\n",
    "    \n",
    "    # Divide total wave speed by 2 to get inital trip speed\n",
    "    wave_speed = wave_speed / 2\n",
    "    \n",
    "    # Get distance from sensor to surface\n",
    "    d = wave_speed * speed_of_sound\n",
    "    \n",
    "    # Subtract depth from sensor height to get snow depth\n",
    "    snow_depth = sensor_height - d\n",
    "    \n",
    "    return snow_depth\n",
    "    \n",
    "def process_sensor_data(records, sensor_height, air_temp, unit='cm', precision=1, truncate_neg_zero=True, no_negative=False):\n",
    "    \"\"\"\n",
    "    Gets snow depth from sensor records\n",
    "    \"\"\"\n",
    "    # Calculate speed of sound from air temperature\n",
    "    speed_of_sound = calc_speed_of_sound(air_temp)\n",
    "    \n",
    "    # Calcualte snow depth from each record\n",
    "    snow_depth_obs = []\n",
    "    for wave_speed in records.WaveSpeed_μs:\n",
    "        # Attach units to wave speed\n",
    "        wave_speed = wave_speed * units.microseconds\n",
    "\n",
    "        # Calculate snow depth\n",
    "        snow_depth = calc_snow_depth(sensor_height, wave_speed, speed_of_sound)\n",
    "        snow_depth_obs.append(snow_depth)\n",
    "\n",
    "    # Calculate average depth from observations\n",
    "    snow_depth = sum(snow_depth_obs)/len(snow_depth_obs)\n",
    "\n",
    "    # Round to nearest tenth of a centimeter\n",
    "    snow_depth = round(snow_depth.to(unit), precision)\n",
    "    \n",
    "    # Check if number is negative\n",
    "    if no_negative and snow_depth.magnitude < 0:\n",
    "        return (records.DateTime_UTC[0], np.nan)\n",
    "    \n",
    "    # Change values between -1 and 0 to 0\n",
    "    if truncate_neg_zero and snow_depth.magnitude <= 0 and snow_depth.magnitude > -1:\n",
    "        return (records.DateTime_UTC[0], round(0.0  * units(unit), precision))\n",
    "    \n",
    "    return (records.DateTime_UTC[0], snow_depth)"
   ]
  },
  {
   "cell_type": "code",
   "execution_count": 185,
   "metadata": {},
   "outputs": [
    {
     "data": {
      "text/html": [
       "\\[0.0\\ centimeter\\]"
      ],
      "text/latex": [
       "$0.0\\ \\mathrm{centimeter}$"
      ],
      "text/plain": [
       "0.0 <Unit('centimeter')>"
      ]
     },
     "execution_count": 185,
     "metadata": {},
     "output_type": "execute_result"
    }
   ],
   "source": [
    "# Specify sensor height\n",
    "sensor_height = 120.3 * units.cm\n",
    "\n",
    "# Specify air temeprature\n",
    "air_temp = 34 * units.degF\n",
    "\n",
    "# Process sensor observations\n",
    "time, snow_depth = process_sensor_data(records, sensor_height, air_temp)\n",
    "snow_depth"
   ]
  },
  {
   "cell_type": "code",
   "execution_count": 187,
   "metadata": {},
   "outputs": [],
   "source": [
    "# Export to file\n",
    "with open('snow_depth/snow_depth.csv', 'a') as f:\n",
    "    f.write(f'\\n{time},{snow_depth.magnitude},{snow_depth.units}')"
   ]
  },
  {
   "cell_type": "code",
   "execution_count": null,
   "metadata": {},
   "outputs": [],
   "source": []
  }
 ],
 "metadata": {
  "kernelspec": {
   "display_name": "Python 3",
   "language": "python",
   "name": "python3"
  },
  "language_info": {
   "codemirror_mode": {
    "name": "ipython",
    "version": 3
   },
   "file_extension": ".py",
   "mimetype": "text/x-python",
   "name": "python",
   "nbconvert_exporter": "python",
   "pygments_lexer": "ipython3",
   "version": "3.7.3"
  }
 },
 "nbformat": 4,
 "nbformat_minor": 4
}
